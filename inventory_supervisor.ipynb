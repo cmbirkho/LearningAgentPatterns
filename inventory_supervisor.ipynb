{
 "cells": [
  {
   "cell_type": "markdown",
   "metadata": {},
   "source": [
    "### Supervisor Pattern\n",
    "* Idea is you have an inventory supervisor and an inventory manager. The supervisor routes tasks and determines if the task is completed and the inventory manager executes tasks using the tools available. In this case we created a sqlite database and provided the inventory manager a tool to query the database\n",
    "* Following the design here: https://github.com/langchain-ai/langgraph/blob/main/docs/docs/tutorials/multi_agent/agent_supervisor.ipynb"
   ]
  },
  {
   "cell_type": "code",
   "execution_count": null,
   "metadata": {},
   "outputs": [],
   "source": [
    "import os \n",
    "os.environ['OPENAI_API_KEY']"
   ]
  },
  {
   "cell_type": "markdown",
   "metadata": {},
   "source": [
    "### Setup"
   ]
  },
  {
   "cell_type": "code",
   "execution_count": 3,
   "metadata": {},
   "outputs": [],
   "source": [
    "from typing import Annotated \n",
    "from langchain_core.tools import tool\n",
    "import sqlite3"
   ]
  },
  {
   "cell_type": "code",
   "execution_count": 4,
   "metadata": {},
   "outputs": [],
   "source": [
    "# Create a database and populate it with sample data for this exercise\n",
    "def connection():\n",
    "    return sqlite3.connect(\"inventory_example.db\")\n",
    "\n",
    "def setup_database(connection):\n",
    "    cursor = connection.cursor()\n",
    "    # Create table\n",
    "    cursor.execute(\"\"\"DROP TABLE IF EXISTS suppliers;\"\"\")\n",
    "    cursor.execute(\"\"\"DROP TABLE IF EXISTS inventory;\"\"\")\n",
    "\n",
    "    # Suppliers table\n",
    "    cursor.execute(\"\"\"\n",
    "        CREATE TABLE IF NOT EXISTS suppliers (\n",
    "            name TEXT,\n",
    "            item TEXT,\n",
    "            price_per_unit INTEGER,\n",
    "            delivery_time INTEGER\n",
    "        );\n",
    "    \"\"\")\n",
    "    # Insert sample data\n",
    "    cursor.executemany(\"\"\"\n",
    "        INSERT INTO suppliers (name, item, price_per_unit, delivery_time) VALUES (?, ?, ?, ?);\n",
    "    \"\"\", [\n",
    "        (\"Supplier A\", \"Laptop\", 1200, 5),\n",
    "        (\"Supplier B\", \"Laptop\", 1150, 7)\n",
    "    ])\n",
    "\n",
    "    # Inventory table\n",
    "    cursor.execute(\"\"\"\n",
    "        CREATE TABLE IF NOT EXISTS inventory (\n",
    "            item TEXT,\n",
    "            on_hand_qty INTEGER,\n",
    "            minimum_required_qty INTEGER\n",
    "        );\n",
    "    \"\"\")\n",
    "    # Insert sample data\n",
    "    cursor.executemany(\"\"\"\n",
    "        INSERT INTO inventory (item, on_hand_qty, minimum_required_qty) VALUES (?, ?, ?);\n",
    "    \"\"\", [\n",
    "        (\"Laptop\", 3, 6),\n",
    "        (\"Couch\", 6, 5)\n",
    "    ])\n",
    "\n",
    "    connection.commit()\n",
    "\n",
    "# setup\n",
    "conn = connection()\n",
    "setup_database(connection=conn)\n",
    "conn.close()\n",
    "\n"
   ]
  },
  {
   "cell_type": "markdown",
   "metadata": {},
   "source": [
    "### Create Tools"
   ]
  },
  {
   "cell_type": "code",
   "execution_count": 6,
   "metadata": {},
   "outputs": [],
   "source": [
    "def run_sql_queries(code: Annotated[str, \"The SQL code to execute to return data.\"]):\n",
    "    \"\"\"\n",
    "    Used to run sql queries against company database.\n",
    "    \"\"\"\n",
    "    conn = sqlite3.connect(\"inventory_example.db\")\n",
    "    cursor = conn.cursor()\n",
    "    try:\n",
    "        print(f\"Code being executed on SQL tool: {code}\")\n",
    "        cursor.execute(code)\n",
    "        results = cursor.fetchall()\n",
    "        conn.close()\n",
    "        if results:\n",
    "            return str(results)\n",
    "        else:\n",
    "            return \"No results found.\"\n",
    "    except Exception as e:\n",
    "        conn.close()\n",
    "        return f\"Error: {str(e)}\""
   ]
  },
  {
   "cell_type": "markdown",
   "metadata": {},
   "source": [
    "### Create Agent Supervisor"
   ]
  },
  {
   "cell_type": "code",
   "execution_count": 7,
   "metadata": {},
   "outputs": [],
   "source": [
    "from typing import Literal\n",
    "from typing_extensions import TypedDict\n",
    "\n",
    "from langchain_openai import ChatOpenAI\n",
    "from langgraph.graph import MessagesState, END \n",
    "from langgraph.types import Command"
   ]
  },
  {
   "cell_type": "code",
   "execution_count": 8,
   "metadata": {},
   "outputs": [],
   "source": [
    "team_members = [\"inventory_manager\"]\n",
    "options = team_members + [\"FINISH\"]\n",
    "\n",
    "system_prompt = (\n",
    "    \"\"\"You are an inventory supervisor tasked with managing a team to fulfill inventory related requests. \n",
    "    Your team consists of the following workers: {team_members}. Given the user request, respond with the worker to act next. \n",
    "    Each worker will perform a task and respond with their results and status. When you determine the user request is\n",
    "    completed respond with FINISH.\"\"\"\n",
    ")\n",
    "\n",
    "\n",
    "class Router(TypedDict):\n",
    "    \"\"\"Worker to route to next. If no workers needed, route to FINISH.\"\"\"\n",
    "\n",
    "    next: Literal[*options]\n",
    "\n",
    "llm = ChatOpenAI(model_name=\"gpt-4-turbo\")\n",
    "\n",
    "class State(MessagesState):\n",
    "    next: str\n",
    "\n",
    "\n",
    "def supervisor_node(state: State) -> Command[Literal[*team_members, \"__end__\"]]:\n",
    "    messages = [{\"role\": \"system\", \"content\": system_prompt},] + state[\"messages\"]\n",
    "    response = llm.with_structured_output(Router).invoke(messages)\n",
    "    print(f\"Supervisor Response: {response}\")\n",
    "    goto = response[\"next\"]\n",
    "    if goto == \"FINISH\":\n",
    "        goto = END \n",
    "    return Command(goto=goto, update={\"next\": goto})\n"
   ]
  },
  {
   "cell_type": "markdown",
   "metadata": {},
   "source": [
    "### Construct Graph"
   ]
  },
  {
   "cell_type": "code",
   "execution_count": 9,
   "metadata": {},
   "outputs": [],
   "source": [
    "from langchain_core.messages import HumanMessage\n",
    "from langgraph.graph import StateGraph, START, END\n",
    "from langgraph.prebuilt import create_react_agent, InjectedState\n",
    "from langchain_core.tools import Tool\n",
    "\n",
    "\n",
    "# Inventory Manager\n",
    "inventory_manager_prompt = \"\"\"You are an inventory manager. \n",
    "Use your knowledge of inventory management and the available tools to answer the user's request.\n",
    "\n",
    "Tools:\n",
    "- run_sql_queries: A data analyst capable of retrieving inventory related data.\n",
    "\"\"\"\n",
    "\n",
    "inventory_manager_agent = create_react_agent(llm, tools=[run_sql_queries])\n",
    "\n",
    "\n",
    "def inventory_manager_node(state: State) -> Command[Literal[\"supervisor\"]]:\n",
    "    print(f\"Inventory Manager state: {state}\")\n",
    "    result = inventory_manager_agent.invoke(state)\n",
    "    print(f\"Inventory Manager response: {result}\")\n",
    "    return Command(\n",
    "        update={\n",
    "            \"messages\": [\n",
    "                HumanMessage(content=result[\"messages\"][-1].content, name=\"inventory_manager\")\n",
    "            ]\n",
    "        },\n",
    "        goto=\"supervisor\",\n",
    "    )\n",
    "\n",
    "\n",
    "builder = StateGraph(State)\n",
    "builder.add_edge(START, \"supervisor\")\n",
    "builder.add_node(\"supervisor\", supervisor_node)\n",
    "builder.add_node(\"inventory_manager\", inventory_manager_node)\n",
    "graph = builder.compile()\n"
   ]
  },
  {
   "cell_type": "code",
   "execution_count": 10,
   "metadata": {},
   "outputs": [
    {
     "data": {
      "image/png": "[encoded data removed]",
      "text/plain": [
       "<IPython.core.display.Image object>"
      ]
     },
     "metadata": {},
     "output_type": "display_data"
    }
   ],
   "source": [
    "from IPython.display import display, Image\n",
    "\n",
    "display(Image(graph.get_graph().draw_mermaid_png()))"
   ]
  },
  {
   "cell_type": "code",
   "execution_count": null,
   "metadata": {},
   "outputs": [
    {
     "name": "stdout",
     "output_type": "stream",
     "text": [
      "================================\u001b[1m Human Message \u001b[0m=================================\n",
      "\n",
      "How many products are in our inventory?\n",
      "None\n",
      "----\n"
     ]
    },
    {
     "name": "stderr",
     "output_type": "stream",
     "text": [
      "/Users/conbirk/Documents/Projects/LearningAgentPatterns/myvenv/lib/python3.12/site-packages/langchain_openai/chat_models/base.py:1375: UserWarning: Cannot use method='json_schema' with model gpt-4-turbo since it doesn't support OpenAI's Structured Output API. You can see supported models here: https://platform.openai.com/docs/guides/structured-outputs#supported-models. To fix this warning, set `method='function_calling'. Overriding to method='function_calling'.\n",
      "  warnings.warn(\n"
     ]
    },
    {
     "name": "stdout",
     "output_type": "stream",
     "text": [
      "Supervisor Response: {'next': 'inventory_manager'}\n",
      "================================\u001b[1m Human Message \u001b[0m=================================\n",
      "\n",
      "How many products are in our inventory?\n",
      "None\n",
      "----\n",
      "Inventory Manager state: {'messages': [HumanMessage(content='How many products are in our inventory?', additional_kwargs={}, response_metadata={}, id='4b282f0d-85c7-4c97-9ac8-81fcbbf86430')], 'next': 'inventory_manager'}\n",
      "Code being executed on SQL tool: SELECT COUNT(*) AS total_products FROM products\n",
      "Inventory Manager response: {'messages': [HumanMessage(content='How many products are in our inventory?', additional_kwargs={}, response_metadata={}, id='4b282f0d-85c7-4c97-9ac8-81fcbbf86430'), AIMessage(content='', additional_kwargs={'tool_calls': [{'id': 'call_e1Z9qgm7VaPRpGC0E68pRyYq', 'function': {'arguments': '{\"code\":\"SELECT COUNT(*) AS total_products FROM products\"}', 'name': 'run_sql_queries'}, 'type': 'function'}], 'refusal': None}, response_metadata={'token_usage': {'completion_tokens': 23, 'prompt_tokens': 67, 'total_tokens': 90, 'completion_tokens_details': {'accepted_prediction_tokens': 0, 'audio_tokens': 0, 'reasoning_tokens': 0, 'rejected_prediction_tokens': 0}, 'prompt_tokens_details': {'audio_tokens': 0, 'cached_tokens': 0}}, 'model_name': 'gpt-4-turbo-2024-04-09', 'system_fingerprint': 'fp_7c63087da1', 'finish_reason': 'tool_calls', 'logprobs': None}, id='run-55b945a3-ac1c-4322-8478-a8cbd5aacda9-0', tool_calls=[{'name': 'run_sql_queries', 'args': {'code': 'SELECT COUNT(*) AS total_products FROM products'}, 'id': 'call_e1Z9qgm7VaPRpGC0E68pRyYq', 'type': 'tool_call'}], usage_metadata={'input_tokens': 67, 'output_tokens': 23, 'total_tokens': 90, 'input_token_details': {'audio': 0, 'cache_read': 0}, 'output_token_details': {'audio': 0, 'reasoning': 0}}), ToolMessage(content='Error: no such table: products', name='run_sql_queries', id='7df01c25-ba07-4794-83b7-b105e75e3db8', tool_call_id='call_e1Z9qgm7VaPRpGC0E68pRyYq'), AIMessage(content='It seems there was an issue accessing the data regarding products in the inventory because the table `products` does not exist in the database. There might be a mistake in accessing the right database or table name. Can you please verify the database or the table name for the inventory information?', additional_kwargs={'refusal': None}, response_metadata={'token_usage': {'completion_tokens': 58, 'prompt_tokens': 105, 'total_tokens': 163, 'completion_tokens_details': {'accepted_prediction_tokens': 0, 'audio_tokens': 0, 'reasoning_tokens': 0, 'rejected_prediction_tokens': 0}, 'prompt_tokens_details': {'audio_tokens': 0, 'cached_tokens': 0}}, 'model_name': 'gpt-4-turbo-2024-04-09', 'system_fingerprint': 'fp_7c63087da1', 'finish_reason': 'stop', 'logprobs': None}, id='run-76b0ce06-14d5-4d70-a41d-bf54f67e4ff8-0', usage_metadata={'input_tokens': 105, 'output_tokens': 58, 'total_tokens': 163, 'input_token_details': {'audio': 0, 'cache_read': 0}, 'output_token_details': {'audio': 0, 'reasoning': 0}})]}\n",
      "================================\u001b[1m Human Message \u001b[0m=================================\n",
      "Name: inventory_manager\n",
      "\n",
      "It seems there was an issue accessing the data regarding products in the inventory because the table `products` does not exist in the database. There might be a mistake in accessing the right database or table name. Can you please verify the database or the table name for the inventory information?\n",
      "None\n",
      "----\n"
     ]
    },
    {
     "name": "stderr",
     "output_type": "stream",
     "text": [
      "/Users/conbirk/Documents/Projects/LearningAgentPatterns/myvenv/lib/python3.12/site-packages/langchain_openai/chat_models/base.py:1375: UserWarning: Cannot use method='json_schema' with model gpt-4-turbo since it doesn't support OpenAI's Structured Output API. You can see supported models here: https://platform.openai.com/docs/guides/structured-outputs#supported-models. To fix this warning, set `method='function_calling'. Overriding to method='function_calling'.\n",
      "  warnings.warn(\n"
     ]
    },
    {
     "name": "stdout",
     "output_type": "stream",
     "text": [
      "Supervisor Response: {'next': 'FINISH'}\n",
      "================================\u001b[1m Human Message \u001b[0m=================================\n",
      "Name: inventory_manager\n",
      "\n",
      "It seems there was an issue accessing the data regarding products in the inventory because the table `products` does not exist in the database. There might be a mistake in accessing the right database or table name. Can you please verify the database or the table name for the inventory information?\n",
      "None\n",
      "----\n"
     ]
    }
   ],
   "source": [
    "# for s in graph.stream(\n",
    "#     {\"messages\": [(\"user\", \"How many products are in our inventory?\")]}, subgraphs=True\n",
    "# ):\n",
    "#     print(s)\n",
    "#     print(\"----\")\n",
    "\n",
    "\n",
    "for s in graph.stream(\n",
    "    {\"messages\": [(\"user\", \"How many products are in our inventory?\")]}, stream_mode=\"values\"\n",
    "):\n",
    "    print(s[\"messages\"][-1].pretty_print())\n",
    "    print(\"----\")"
   ]
  },
  {
   "cell_type": "code",
   "execution_count": null,
   "metadata": {},
   "outputs": [],
   "source": []
  }
 ],
 "metadata": {
  "kernelspec": {
   "display_name": "myvenv",
   "language": "python",
   "name": "python3"
  },
  "language_info": {
   "codemirror_mode": {
    "name": "ipython",
    "version": 3
   },
   "file_extension": ".py",
   "mimetype": "text/x-python",
   "name": "python",
   "nbconvert_exporter": "python",
   "pygments_lexer": "ipython3",
   "version": "3.12.2"
  }
 },
 "nbformat": 4,
 "nbformat_minor": 2
}
